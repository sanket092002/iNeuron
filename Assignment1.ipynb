{
 "cells": [
  {
   "cell_type": "markdown",
   "id": "697e8ab8",
   "metadata": {},
   "source": [
    "1. In the below elements which of them are values or an expression? eg:- values can be\n",
    "integer or string and expressions will be mathematical operators.\n",
    "*\n",
    "'hello'\n",
    "-87.8\n",
    "-\n",
    "/\n",
    "+\n",
    "6\n",
    "\n",
    "Ans: Values are: 'hello',-87.8,6\n",
    "     Expressions are: *,-,/,+\n"
   ]
  },
  {
   "cell_type": "markdown",
   "id": "a82afdc3",
   "metadata": {},
   "source": [
    "2. What is the difference between string and variable?\n",
    "\n",
    "Ans: Variables are symbols that can be thought of empty boxes in which we can store data. Variables can store integers, strings, floats, lists, dictionaries and many other data types.\n",
    "\n",
    "String can be thought of a form or type of data which can be stored in variables.\n",
    "\n",
    "e.g. we can initialise b=4, b=4.0, b='str'.\n",
    "\n",
    "Here b is the variable and 4,4.0 and 'str' represents the type of data stored inside b, which are int, float and str respectively."
   ]
  },
  {
   "cell_type": "markdown",
   "id": "fef175ac",
   "metadata": {},
   "source": [
    "3. Describe three different data types.\n",
    "\n",
    "Ans: Integers: These are the data types which can store integers, i.e positive and negative integers but cannot store digits after decimal point. e.g. 4,-4,5,0\n",
    "Float: These are the data types which can store digits even after decimal points. e.g. 4.0,-4.223,4.565,5.0000\n",
    "Characters: These data types can store single characters which can vary from a wide range of alphabets, numerics, special characters. e.g. 'a',' '(empty space),'$'. "
   ]
  },
  {
   "cell_type": "markdown",
   "id": "b4edd35d",
   "metadata": {},
   "source": [
    "4. What is an expression made up of? What do all expressions do?\n",
    "\n",
    "Ans: Expressions can be thought of combination of operators (+,-,/,*,and,or etc) and operands(variables, constants etc). Expressions return a value by processing the operators and operands."
   ]
  },
  {
   "cell_type": "markdown",
   "id": "faf7bf57",
   "metadata": {},
   "source": [
    "5. This assignment statements, like spam = 10. What is the difference between an expression and a statement?\n",
    "\n",
    "Ans: Assignment statements initialise the variables with some values. e.g. spam=10. It creates a memory space named 'space' and assigns its value as 10.\n",
    "\n",
    "Expression is a combination of operators and operands which after processing returns some value. \n",
    "e.g. checking if (1+2==3). It will return True.\n"
   ]
  },
  {
   "cell_type": "markdown",
   "id": "26b25ebe",
   "metadata": {},
   "source": [
    "6. After running the following code, what does the variable bacon contain?\n",
    "bacon = 22\n",
    "bacon + 1\n",
    "\n",
    "Ans: bacon contains value 22 only as it has not been reassigned any value.\n"
   ]
  },
  {
   "cell_type": "markdown",
   "id": "6ef60016",
   "metadata": {},
   "source": [
    "7. What should the values of the following two terms be?\n",
    "'spam' + 'spamspam'\n",
    "'spam' * 3\n",
    "\n",
    "Ans: spamspamspam\n",
    "     spamspamspam"
   ]
  },
  {
   "cell_type": "markdown",
   "id": "82b2f1be",
   "metadata": {},
   "source": [
    "8. Why is eggs a valid variable name while 100 is invalid?\n",
    "\n",
    "Ans: This is because a variable name can only start with an alphabet or an underscore.Since 100 starts with a numeric value(1), it is an invalid name for a variable."
   ]
  },
  {
   "cell_type": "markdown",
   "id": "ebf57481",
   "metadata": {},
   "source": [
    "9. What three functions can be used to get the integer, floating-point number, or string version of a value?\n",
    "\n",
    "Ans: int(variable), float(variable), str(variable)"
   ]
  },
  {
   "cell_type": "markdown",
   "id": "d542ea44",
   "metadata": {},
   "source": [
    "10. Why does this expression cause an error? How can you fix it?\n",
    "'I have eaten ' + 99 + ' burritos.'\n",
    "\n",
    "Ans: This is because '+' operation can only be done when the data types of all the variables are same.\n",
    "    Since 99 is an integer while other two variables are strings, this returns an error.\n",
    "    We can do this to rectify:\n",
    "        'I have eaten '+'99'+' burritos.'\n",
    "        'I have eaten '+str(99)+' burritos.'"
   ]
  }
 ],
 "metadata": {
  "kernelspec": {
   "display_name": "Python 3 (ipykernel)",
   "language": "python",
   "name": "python3"
  },
  "language_info": {
   "codemirror_mode": {
    "name": "ipython",
    "version": 3
   },
   "file_extension": ".py",
   "mimetype": "text/x-python",
   "name": "python",
   "nbconvert_exporter": "python",
   "pygments_lexer": "ipython3",
   "version": "3.9.12"
  }
 },
 "nbformat": 4,
 "nbformat_minor": 5
}
