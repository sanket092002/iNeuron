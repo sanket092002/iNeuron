{
 "cells": [
  {
   "cell_type": "markdown",
   "id": "3f2f5252",
   "metadata": {},
   "source": [
    "1.What are the two values of the Boolean data type? How do you write them?\n",
    "\n",
    "Ans:  The two values of Boolean data types are: True and False\n",
    "      They are written by writing the first letter in capital (T in True and F in False) and the\n",
    "      rest in lowercase letters. "
   ]
  },
  {
   "cell_type": "markdown",
   "id": "a2348038",
   "metadata": {},
   "source": [
    "2. What are the three different types of Boolean operators?\n",
    "\n",
    "Ans: The three boolean operators are : 'and' ,'or', 'not'.\n",
    "    "
   ]
  },
  {
   "cell_type": "markdown",
   "id": "62ae7698",
   "metadata": {},
   "source": [
    " 3. Make a list of each Boolean operator's truth tables (i.e. every possible combination of Boolean\n",
    "values for the operator and what it evaluate ).\n",
    "\n",
    "Ans: \n",
    "        AND:\n",
    "            0 and 0 : 0\n",
    "            0 and 1 : 0\n",
    "            1 and 0 : 0\n",
    "            1 and 1 : 1\n",
    "        OR:\n",
    "            0 or 0 : 0\n",
    "            0 or 1 : 1\n",
    "            1 or 0 : 1\n",
    "            1 or 1 : 1\n",
    "        NOT:\n",
    "            not (1) : 0\n",
    "            not (0) : 1\n",
    "            \n"
   ]
  },
  {
   "cell_type": "markdown",
   "id": "4b701989",
   "metadata": {},
   "source": [
    "4. What are the values of the following expressions?\n",
    "\n",
    "(5 > 4) and (3 == 5)                     : False\n",
    "not (5 > 4)                              : False\n",
    "(5 > 4) or (3 == 5)                      : True\n",
    "not ((5 > 4) or (3 == 5))                : False\n",
    "(True and True) and (True == False)      : False\n",
    "(not False) or (not True)                : True"
   ]
  },
  {
   "cell_type": "markdown",
   "id": "e76f74fb",
   "metadata": {},
   "source": [
    "5. What are the six comparison operators?\n",
    "\n",
    "Ans: The six comparison operators are:\n",
    "        !=  not equal to\n",
    "        ==  is equal to\n",
    "        >   is greater than\n",
    "        <   is smaller than\n",
    "        >=  is greater than equal to\n",
    "        <=  is smaller than equal to"
   ]
  },
  {
   "cell_type": "markdown",
   "id": "2e491ca1",
   "metadata": {},
   "source": [
    "6. How do you tell the difference between the equal to and assignment operators?Describe a\n",
    "condition and when you would use one.\n",
    "\n",
    "Ans: If we want to check if a variable's value is equal to a number, say 6.. we can use equal to\n",
    "    operator , i.e. it will return a boolean value(True, if a has value of 6 or False,if a does not\n",
    "    have the value of 6) \n",
    "    (a==6)\n",
    "    On the other hand if we want to assign a the value of 6 , we use assignment operators.\n",
    "    a=6\n",
    "    In this case, it will store the value of 6 inside the variable 'a'."
   ]
  },
  {
   "cell_type": "markdown",
   "id": "26f0f51a",
   "metadata": {},
   "source": [
    "7. Identify the three blocks in this code:\n",
    "spam = 0\n",
    "if spam == 10:                      Block1\n",
    "    print('eggs')  \n",
    "if spam > 5:                        Block2\n",
    "    print('bacon')\n",
    "else:                               Block3\n",
    "    print('ham')\n",
    "    print('spam')\n",
    "    print('spam')\n",
    "    \n",
    "Also, we need to give proper indentation for the blocks."
   ]
  },
  {
   "cell_type": "markdown",
   "id": "f6b9da10",
   "metadata": {},
   "source": [
    "8. Write code that prints Hello if 1 is stored in spam, prints Howdy if 2 is stored in spam, and prints Greetings! if anything else is stored in spam.\n",
    "\n",
    "spam=1\n",
    "if spam==1:\n",
    "    print(\"Hello\")\n",
    "elif spam ==2:\n",
    "    print(\"Howdy\")\n",
    "else:\n",
    "    print(\"Greetings!\")"
   ]
  },
  {
   "cell_type": "markdown",
   "id": "f43c2d37",
   "metadata": {},
   "source": [
    "9.If your programme is stuck in an endless loop, what keys you’ll press?\n",
    "\n",
    "Ans: Ctrl+C .. This will produce a keyboard interrupt which will break the endless loop.\n"
   ]
  },
  {
   "cell_type": "markdown",
   "id": "192752eb",
   "metadata": {},
   "source": [
    "10. How can you tell the difference between break and continue?\n",
    "\n",
    "Ans: Break permanently gets you out of the loop. There will be no further iterations inside the \n",
    "    loop.\n",
    "    On the other hand, continue only skips a part of iteration and jumps to the next iteration.\n",
    "    \n",
    "    eg. \n",
    "    for val in \"string\":\n",
    "        if val == \"i\":\n",
    "            break\n",
    "        print(val, end=' ')\n",
    "    \n",
    "    This will only print: s t r\n",
    "    \n",
    "    for val in \"string\":\n",
    "        if val == \"i\":\n",
    "            break\n",
    "        print(val, end=' ')\n",
    "    \n",
    "    This will print: s t r n g"
   ]
  },
  {
   "cell_type": "markdown",
   "id": "76dc1933",
   "metadata": {},
   "source": [
    "11. In a for loop, what is the difference between range(10), range(0, 10), and range(0, 10, 1)?\n",
    "\n",
    "Ans: In all these cases, output would be the same, i.e. range will produce a list of immutable \n",
    "     objects which starts from 0 and ends at 9.\n",
    "     In the 2nd case, we are explicitly specifying start point as 0 \n",
    "     In the 3rd case, we are explicitly specifying the jump of variable as +1.\n",
    "     "
   ]
  },
  {
   "cell_type": "markdown",
   "id": "40d2ab75",
   "metadata": {},
   "source": [
    "12. Write a short program that prints the numbers 1 to 10 using a for loop. Then write an equivalent\n",
    "program that prints the numbers 1 to 10 using a while loop.\n",
    "\n",
    "Ans:\n",
    "    for i in range(1,11):\n",
    "        print(i, end=' ')\n",
    "    \n",
    "    i=1\n",
    "    while(i<=10):\n",
    "        print(i, end=' ')\n",
    "        i+=1"
   ]
  },
  {
   "cell_type": "markdown",
   "id": "fe4a6175",
   "metadata": {},
   "source": [
    "13. If you had a function named bacon() inside a module named spam, how would you call it after\n",
    "importing spam?\n",
    "\n",
    "Ans: spam.bacon()"
   ]
  },
  {
   "cell_type": "code",
   "execution_count": null,
   "id": "59f0c1b7",
   "metadata": {},
   "outputs": [],
   "source": []
  }
 ],
 "metadata": {
  "kernelspec": {
   "display_name": "Python 3 (ipykernel)",
   "language": "python",
   "name": "python3"
  },
  "language_info": {
   "codemirror_mode": {
    "name": "ipython",
    "version": 3
   },
   "file_extension": ".py",
   "mimetype": "text/x-python",
   "name": "python",
   "nbconvert_exporter": "python",
   "pygments_lexer": "ipython3",
   "version": "3.9.12"
  }
 },
 "nbformat": 4,
 "nbformat_minor": 5
}
